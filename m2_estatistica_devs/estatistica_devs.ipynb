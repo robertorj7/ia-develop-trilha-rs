{
 "cells": [
  {
   "cell_type": "code",
   "execution_count": 2,
   "id": "ca7e2bb0",
   "metadata": {},
   "outputs": [],
   "source": [
    "import pandas as pd"
   ]
  },
  {
   "cell_type": "code",
   "execution_count": 3,
   "id": "43c862a1",
   "metadata": {},
   "outputs": [
    {
     "data": {
      "text/plain": [
       "'2.3.0'"
      ]
     },
     "execution_count": 3,
     "metadata": {},
     "output_type": "execute_result"
    }
   ],
   "source": [
    "pd.__version__"
   ]
  },
  {
   "cell_type": "code",
   "execution_count": 4,
   "id": "6df39d92",
   "metadata": {},
   "outputs": [],
   "source": [
    "dict_medidas = {'idade': [15, 18, 25, 25, 45, 55, 56, 65, 81], 'altura': [160, 162, 165, 170, 175, 175, 185, 190, 195]}"
   ]
  },
  {
   "cell_type": "code",
   "execution_count": 5,
   "id": "9771bccd",
   "metadata": {},
   "outputs": [
    {
     "data": {
      "text/plain": [
       "{'idade': [15, 18, 25, 25, 45, 55, 56, 65, 81],\n",
       " 'altura': [160, 162, 165, 170, 175, 175, 185, 190, 195]}"
      ]
     },
     "execution_count": 5,
     "metadata": {},
     "output_type": "execute_result"
    }
   ],
   "source": [
    "dict_medidas"
   ]
  },
  {
   "cell_type": "code",
   "execution_count": 6,
   "id": "4f129f10",
   "metadata": {},
   "outputs": [],
   "source": [
    "df_medidas = pd.DataFrame.from_dict(dict_medidas)"
   ]
  },
  {
   "cell_type": "code",
   "execution_count": 7,
   "id": "600742c4",
   "metadata": {},
   "outputs": [
    {
     "data": {
      "text/html": [
       "<div>\n",
       "<style scoped>\n",
       "    .dataframe tbody tr th:only-of-type {\n",
       "        vertical-align: middle;\n",
       "    }\n",
       "\n",
       "    .dataframe tbody tr th {\n",
       "        vertical-align: top;\n",
       "    }\n",
       "\n",
       "    .dataframe thead th {\n",
       "        text-align: right;\n",
       "    }\n",
       "</style>\n",
       "<table border=\"1\" class=\"dataframe\">\n",
       "  <thead>\n",
       "    <tr style=\"text-align: right;\">\n",
       "      <th></th>\n",
       "      <th>idade</th>\n",
       "      <th>altura</th>\n",
       "    </tr>\n",
       "  </thead>\n",
       "  <tbody>\n",
       "    <tr>\n",
       "      <th>0</th>\n",
       "      <td>15</td>\n",
       "      <td>160</td>\n",
       "    </tr>\n",
       "    <tr>\n",
       "      <th>1</th>\n",
       "      <td>18</td>\n",
       "      <td>162</td>\n",
       "    </tr>\n",
       "    <tr>\n",
       "      <th>2</th>\n",
       "      <td>25</td>\n",
       "      <td>165</td>\n",
       "    </tr>\n",
       "    <tr>\n",
       "      <th>3</th>\n",
       "      <td>25</td>\n",
       "      <td>170</td>\n",
       "    </tr>\n",
       "    <tr>\n",
       "      <th>4</th>\n",
       "      <td>45</td>\n",
       "      <td>175</td>\n",
       "    </tr>\n",
       "    <tr>\n",
       "      <th>5</th>\n",
       "      <td>55</td>\n",
       "      <td>175</td>\n",
       "    </tr>\n",
       "    <tr>\n",
       "      <th>6</th>\n",
       "      <td>56</td>\n",
       "      <td>185</td>\n",
       "    </tr>\n",
       "    <tr>\n",
       "      <th>7</th>\n",
       "      <td>65</td>\n",
       "      <td>190</td>\n",
       "    </tr>\n",
       "    <tr>\n",
       "      <th>8</th>\n",
       "      <td>81</td>\n",
       "      <td>195</td>\n",
       "    </tr>\n",
       "  </tbody>\n",
       "</table>\n",
       "</div>"
      ],
      "text/plain": [
       "   idade  altura\n",
       "0     15     160\n",
       "1     18     162\n",
       "2     25     165\n",
       "3     25     170\n",
       "4     45     175\n",
       "5     55     175\n",
       "6     56     185\n",
       "7     65     190\n",
       "8     81     195"
      ]
     },
     "execution_count": 7,
     "metadata": {},
     "output_type": "execute_result"
    }
   ],
   "source": [
    "df_medidas"
   ]
  },
  {
   "cell_type": "markdown",
   "id": "de6cb5fb",
   "metadata": {},
   "source": [
    "## Medidas Resumo"
   ]
  },
  {
   "cell_type": "markdown",
   "id": "107f2433",
   "metadata": {},
   "source": [
    "### Medidas de Posição"
   ]
  },
  {
   "cell_type": "code",
   "execution_count": 8,
   "id": "f16afc6a",
   "metadata": {},
   "outputs": [
    {
     "data": {
      "text/plain": [
       "np.float64(42.77777777777778)"
      ]
     },
     "execution_count": 8,
     "metadata": {},
     "output_type": "execute_result"
    }
   ],
   "source": [
    "# media\n",
    "df_medidas[\"idade\"].mean()"
   ]
  },
  {
   "cell_type": "code",
   "execution_count": 9,
   "id": "95a4c2fb",
   "metadata": {},
   "outputs": [
    {
     "data": {
      "text/plain": [
       "np.float64(45.0)"
      ]
     },
     "execution_count": 9,
     "metadata": {},
     "output_type": "execute_result"
    }
   ],
   "source": [
    "#mediana\n",
    "df_medidas[\"idade\"].median()"
   ]
  },
  {
   "cell_type": "code",
   "execution_count": 10,
   "id": "476494db",
   "metadata": {},
   "outputs": [
    {
     "data": {
      "text/plain": [
       "0    25\n",
       "Name: idade, dtype: int64"
      ]
     },
     "execution_count": 10,
     "metadata": {},
     "output_type": "execute_result"
    }
   ],
   "source": [
    "#moda\n",
    "df_medidas[\"idade\"].mode()"
   ]
  },
  {
   "cell_type": "code",
   "execution_count": 11,
   "id": "569af301",
   "metadata": {},
   "outputs": [
    {
     "data": {
      "text/plain": [
       "0    175\n",
       "Name: altura, dtype: int64"
      ]
     },
     "execution_count": 11,
     "metadata": {},
     "output_type": "execute_result"
    }
   ],
   "source": [
    "#moda\n",
    "df_medidas[\"altura\"].mode()"
   ]
  },
  {
   "cell_type": "markdown",
   "id": "f99041e0",
   "metadata": {},
   "source": [
    "### Medidas de Dispersão"
   ]
  },
  {
   "cell_type": "code",
   "execution_count": 12,
   "id": "9ddd7f77",
   "metadata": {},
   "outputs": [
    {
     "data": {
      "text/plain": [
       "np.float64(537.6944444444443)"
      ]
     },
     "execution_count": 12,
     "metadata": {},
     "output_type": "execute_result"
    }
   ],
   "source": [
    "#variância\n",
    "df_medidas.idade.var()"
   ]
  },
  {
   "cell_type": "code",
   "execution_count": 13,
   "id": "f2ef3722",
   "metadata": {},
   "outputs": [
    {
     "data": {
      "text/plain": [
       "np.float64(23.18823935628672)"
      ]
     },
     "execution_count": 13,
     "metadata": {},
     "output_type": "execute_result"
    }
   ],
   "source": [
    "#desvio padrão\n",
    "df_medidas.idade.std()"
   ]
  },
  {
   "cell_type": "code",
   "execution_count": 16,
   "id": "216c72e8",
   "metadata": {},
   "outputs": [
    {
     "data": {
      "text/plain": [
       "np.float64(54.206273819891024)"
      ]
     },
     "execution_count": 16,
     "metadata": {},
     "output_type": "execute_result"
    }
   ],
   "source": [
    "#coeficiente de variação - Idade\n",
    "df_medidas.idade.std() / df_medidas.idade.mean() * 100\n"
   ]
  },
  {
   "cell_type": "code",
   "execution_count": 17,
   "id": "b593add1",
   "metadata": {},
   "outputs": [
    {
     "data": {
      "text/plain": [
       "np.float64(7.115385241318342)"
      ]
     },
     "execution_count": 17,
     "metadata": {},
     "output_type": "execute_result"
    }
   ],
   "source": [
    "#coeficiente de variação - Altura\n",
    "df_medidas.altura.std() / df_medidas.altura.mean() * 100"
   ]
  },
  {
   "cell_type": "markdown",
   "id": "40274b65",
   "metadata": {},
   "source": [
    "### Medidas de Forma"
   ]
  },
  {
   "cell_type": "code",
   "execution_count": 19,
   "id": "0fb8fd2f",
   "metadata": {},
   "outputs": [
    {
     "data": {
      "text/plain": [
       "np.float64(0.29749744898388025)"
      ]
     },
     "execution_count": 19,
     "metadata": {},
     "output_type": "execute_result"
    }
   ],
   "source": [
    "#Assimetria - Idade\n",
    "df_medidas.idade.skew()"
   ]
  },
  {
   "cell_type": "code",
   "execution_count": 20,
   "id": "67f0a5aa",
   "metadata": {},
   "outputs": [
    {
     "data": {
      "text/plain": [
       "np.float64(0.4020977989571305)"
      ]
     },
     "execution_count": 20,
     "metadata": {},
     "output_type": "execute_result"
    }
   ],
   "source": [
    "#Assimetria - Altura\n",
    "df_medidas.altura.skew()"
   ]
  },
  {
   "cell_type": "code",
   "execution_count": 22,
   "id": "7c5e5b49",
   "metadata": {},
   "outputs": [
    {
     "data": {
      "text/plain": [
       "np.float64(-1.2331855496548658)"
      ]
     },
     "execution_count": 22,
     "metadata": {},
     "output_type": "execute_result"
    }
   ],
   "source": [
    "#Curtose - Idade\n",
    "df_medidas.idade.kurtosis()"
   ]
  },
  {
   "cell_type": "code",
   "execution_count": 24,
   "id": "400a2259",
   "metadata": {},
   "outputs": [
    {
     "data": {
      "text/plain": [
       "np.float64(-1.1819739734739287)"
      ]
     },
     "execution_count": 24,
     "metadata": {},
     "output_type": "execute_result"
    }
   ],
   "source": [
    "#Curtose - Altura\n",
    "df_medidas.altura.kurtosis()"
   ]
  },
  {
   "cell_type": "code",
   "execution_count": 25,
   "id": "92e98820",
   "metadata": {},
   "outputs": [
    {
     "data": {
      "text/plain": [
       "count     9.000000\n",
       "mean     42.777778\n",
       "std      23.188239\n",
       "min      15.000000\n",
       "25%      25.000000\n",
       "50%      45.000000\n",
       "75%      56.000000\n",
       "max      81.000000\n",
       "Name: idade, dtype: float64"
      ]
     },
     "execution_count": 25,
     "metadata": {},
     "output_type": "execute_result"
    }
   ],
   "source": [
    "#Obter medidas estatísticas\n",
    "df_medidas.idade.describe()"
   ]
  },
  {
   "cell_type": "markdown",
   "id": "df280927",
   "metadata": {},
   "source": [
    "### Correlação de variáveis"
   ]
  },
  {
   "cell_type": "code",
   "execution_count": null,
   "id": "d181916f",
   "metadata": {},
   "outputs": [
    {
     "data": {
      "text/html": [
       "<div>\n",
       "<style scoped>\n",
       "    .dataframe tbody tr th:only-of-type {\n",
       "        vertical-align: middle;\n",
       "    }\n",
       "\n",
       "    .dataframe tbody tr th {\n",
       "        vertical-align: top;\n",
       "    }\n",
       "\n",
       "    .dataframe thead th {\n",
       "        text-align: right;\n",
       "    }\n",
       "</style>\n",
       "<table border=\"1\" class=\"dataframe\">\n",
       "  <thead>\n",
       "    <tr style=\"text-align: right;\">\n",
       "      <th></th>\n",
       "      <th>idade</th>\n",
       "      <th>altura</th>\n",
       "    </tr>\n",
       "  </thead>\n",
       "  <tbody>\n",
       "    <tr>\n",
       "      <th>idade</th>\n",
       "      <td>1.000000</td>\n",
       "      <td>0.966537</td>\n",
       "    </tr>\n",
       "    <tr>\n",
       "      <th>altura</th>\n",
       "      <td>0.966537</td>\n",
       "      <td>1.000000</td>\n",
       "    </tr>\n",
       "  </tbody>\n",
       "</table>\n",
       "</div>"
      ],
      "text/plain": [
       "           idade    altura\n",
       "idade   1.000000  0.966537\n",
       "altura  0.966537  1.000000"
      ]
     },
     "execution_count": 27,
     "metadata": {},
     "output_type": "execute_result"
    }
   ],
   "source": [
    "#Correlação do Dataframe, segundo o método de Pearson\n",
    "df_medidas.corr(method='pearson')"
   ]
  },
  {
   "cell_type": "code",
   "execution_count": 28,
   "id": "e779c90a",
   "metadata": {},
   "outputs": [
    {
     "data": {
      "text/plain": [
       "np.float64(0.966537073715697)"
      ]
     },
     "execution_count": 28,
     "metadata": {},
     "output_type": "execute_result"
    }
   ],
   "source": [
    "#Correlação entre duas variáveis\n",
    "df_medidas.idade.corr(df_medidas.altura)"
   ]
  },
  {
   "cell_type": "code",
   "execution_count": 29,
   "id": "c745b46c",
   "metadata": {},
   "outputs": [
    {
     "data": {
      "text/html": [
       "<div>\n",
       "<style scoped>\n",
       "    .dataframe tbody tr th:only-of-type {\n",
       "        vertical-align: middle;\n",
       "    }\n",
       "\n",
       "    .dataframe tbody tr th {\n",
       "        vertical-align: top;\n",
       "    }\n",
       "\n",
       "    .dataframe thead th {\n",
       "        text-align: right;\n",
       "    }\n",
       "</style>\n",
       "<table border=\"1\" class=\"dataframe\">\n",
       "  <thead>\n",
       "    <tr style=\"text-align: right;\">\n",
       "      <th></th>\n",
       "      <th>idade</th>\n",
       "      <th>altura</th>\n",
       "    </tr>\n",
       "  </thead>\n",
       "  <tbody>\n",
       "    <tr>\n",
       "      <th>idade</th>\n",
       "      <td>1.000000</td>\n",
       "      <td>0.991597</td>\n",
       "    </tr>\n",
       "    <tr>\n",
       "      <th>altura</th>\n",
       "      <td>0.991597</td>\n",
       "      <td>1.000000</td>\n",
       "    </tr>\n",
       "  </tbody>\n",
       "</table>\n",
       "</div>"
      ],
      "text/plain": [
       "           idade    altura\n",
       "idade   1.000000  0.991597\n",
       "altura  0.991597  1.000000"
      ]
     },
     "execution_count": 29,
     "metadata": {},
     "output_type": "execute_result"
    }
   ],
   "source": [
    "#Correlação do Dataframe, segundo o método de Spearman\n",
    "df_medidas.corr(method='spearman')\n"
   ]
  },
  {
   "cell_type": "code",
   "execution_count": null,
   "id": "ca3fc2a8",
   "metadata": {},
   "outputs": [],
   "source": []
  }
 ],
 "metadata": {
  "kernelspec": {
   "display_name": "m2_estatistica_devs-LyKvlhzf",
   "language": "python",
   "name": "python3"
  },
  "language_info": {
   "codemirror_mode": {
    "name": "ipython",
    "version": 3
   },
   "file_extension": ".py",
   "mimetype": "text/x-python",
   "name": "python",
   "nbconvert_exporter": "python",
   "pygments_lexer": "ipython3",
   "version": "3.12.3"
  }
 },
 "nbformat": 4,
 "nbformat_minor": 5
}
